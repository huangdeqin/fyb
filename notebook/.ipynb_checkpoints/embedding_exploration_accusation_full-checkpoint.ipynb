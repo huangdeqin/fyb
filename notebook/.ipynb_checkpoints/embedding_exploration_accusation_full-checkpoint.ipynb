{
 "cells": [
  {
   "cell_type": "code",
   "execution_count": 1,
   "metadata": {},
   "outputs": [
    {
     "name": "stderr",
     "output_type": "stream",
     "text": [
      "/home/aida-zw/anaconda3/lib/python3.6/site-packages/h5py/__init__.py:36: FutureWarning: Conversion of the second argument of issubdtype from `float` to `np.floating` is deprecated. In future, it will be treated as `np.float64 == np.dtype(float).type`.\n",
      "  from ._conv import register_converters as _register_converters\n"
     ]
    }
   ],
   "source": [
    "#from __future__ import absolute_import\n",
    "#from __future__ import division\n",
    "#from __future__ import print_function\n",
    "\n",
    "import tensorflow as tf\n",
    "import tensorflow_hub as hub\n",
    "import pandas as pd\n",
    "import numpy as np\n",
    "import seaborn as sb\n",
    "import matplotlib.pyplot as plt\n",
    "from sklearn.preprocessing import LabelEncoder\n",
    "%matplotlib inline"
   ]
  },
  {
   "cell_type": "code",
   "execution_count": null,
   "metadata": {},
   "outputs": [],
   "source": [
    "!nvidia-smi"
   ]
  },
  {
   "cell_type": "markdown",
   "metadata": {},
   "source": [
    "## data"
   ]
  },
  {
   "cell_type": "code",
   "execution_count": 2,
   "metadata": {},
   "outputs": [],
   "source": [
    "path = \"/home/aida-zw/Desktop/ws/Data/full/\"\n",
    "def read_data(csv_file, path):\n",
    "    df = pd.read_csv(path + csv_file)\n",
    "    df = df[['fact', 'accusation']]\n",
    "    return df\n",
    "train_data = read_data('data_train.csv', path)"
   ]
  },
  {
   "cell_type": "code",
   "execution_count": 3,
   "metadata": {},
   "outputs": [],
   "source": [
    "min_count =100\n",
    "df_tmp = train_data.groupby('accusation').filter(lambda x: len(x) > min_count).drop_duplicates(subset='accusation')\n",
    "accusation_set = df_tmp.accusation.tolist()\n",
    "accusation_set = [x for x in accusation_set if  ',' not in x]\n",
    "train_data = train_data[train_data.accusation.isin(accusation_set)]"
   ]
  },
  {
   "cell_type": "code",
   "execution_count": 4,
   "metadata": {},
   "outputs": [],
   "source": [
    "label_encoder = LabelEncoder()\n",
    "label_encoder.fit(train_data.accusation)\n",
    "label_encoder.save('le.npy')\n",
    "train_data.accusation = label_encoder.transform(train_data.accusation)"
   ]
  },
  {
   "cell_type": "markdown",
   "metadata": {},
   "source": [
    "## model"
   ]
  },
  {
   "cell_type": "code",
   "execution_count": 5,
   "metadata": {},
   "outputs": [],
   "source": [
    "train_data.accusation = train_data.accusation.map(int)\n",
    "train_input_fn = tf.estimator.inputs.pandas_input_fn(train_data, train_data['accusation'], shuffle=True, num_epochs=None, batch_size=512)"
   ]
  },
  {
   "cell_type": "code",
   "execution_count": null,
   "metadata": {},
   "outputs": [],
   "source": [
    "tf.gfile.DeleteRecursively('./model')"
   ]
  },
  {
   "cell_type": "code",
   "execution_count": 6,
   "metadata": {},
   "outputs": [
    {
     "name": "stdout",
     "output_type": "stream",
     "text": [
      "INFO:tensorflow:Using /tmp/tfhub_modules to cache modules.\n",
      "INFO:tensorflow:Using default config.\n",
      "INFO:tensorflow:Using config: {'_model_dir': './model', '_tf_random_seed': None, '_save_summary_steps': 100, '_save_checkpoints_steps': None, '_save_checkpoints_secs': 600, '_session_config': None, '_keep_checkpoint_max': 5, '_keep_checkpoint_every_n_hours': 10000, '_log_step_count_steps': 100, '_train_distribute': None, '_service': None, '_cluster_spec': <tensorflow.python.training.server_lib.ClusterSpec object at 0x7f4fb00eef28>, '_task_type': 'worker', '_task_id': 0, '_global_id_in_cluster': 0, '_master': '', '_evaluation_master': '', '_is_chief': True, '_num_ps_replicas': 0, '_num_worker_replicas': 1}\n"
     ]
    },
    {
     "data": {
      "text/plain": [
       "132"
      ]
     },
     "execution_count": 6,
     "metadata": {},
     "output_type": "execute_result"
    }
   ],
   "source": [
    "n_classes = len(accusation_set)\n",
    "feature_columns = [hub.text_embedding_column('fact','https://tfhub.dev/google/nnlm-zh-dim128-with-normalization/1', trainable=True)]\n",
    "model = tf.estimator.DNNClassifier([512, 512, 128], \n",
    "                                   feature_columns=feature_columns, n_classes=n_classes, model_dir='./model')\n",
    "n_classes"
   ]
  },
  {
   "cell_type": "code",
   "execution_count": null,
   "metadata": {},
   "outputs": [],
   "source": [
    "model.train(input_fn=train_input_fn, max_steps=3000)"
   ]
  },
  {
   "cell_type": "code",
   "execution_count": null,
   "metadata": {
    "scrolled": true
   },
   "outputs": [],
   "source": [
    "%time test_predictions = list(model.predict(input_fn=test_input_fn))"
   ]
  },
  {
   "cell_type": "code",
   "execution_count": null,
   "metadata": {},
   "outputs": [],
   "source": [
    "len(test_predictions)"
   ]
  },
  {
   "cell_type": "code",
   "execution_count": null,
   "metadata": {
    "scrolled": false
   },
   "outputs": [],
   "source": [
    "yhat = np.array([p['classes'][0] for p in test_predictions])\n",
    "y = test_data.accusation\n",
    "cm = pd.DataFrame({'truth': label_encoder.inverse_transform(y.values.astype(int)), \n",
    "                   'prediction': label_encoder.inverse_transform(yhat.astype(int))})\n",
    "pd.pivot_table(cm, index='truth', columns='prediction', aggfunc='size').iloc[5:10,5:10]"
   ]
  },
  {
   "cell_type": "code",
   "execution_count": null,
   "metadata": {},
   "outputs": [],
   "source": [
    "cm.to_csv(\"../output/result.csv\", index=False)"
   ]
  },
  {
   "cell_type": "code",
   "execution_count": null,
   "metadata": {},
   "outputs": [],
   "source": [
    "class BaselineModel(object):\n",
    "    def __init__(self):\n",
    "        pass\n",
    "    def predict(self, df):\n",
    "        theft = df.fact.str.contains('盗')\n",
    "        yhat = df.accusation.copy()\n",
    "        yhat[theft] = 1\n",
    "        yhat[~theft] = 0\n",
    "        return yhat"
   ]
  },
  {
   "cell_type": "code",
   "execution_count": null,
   "metadata": {},
   "outputs": [],
   "source": [
    "base_model = BaselineModel()\n",
    "yyhat = base_model.predict(test_data)"
   ]
  },
  {
   "cell_type": "code",
   "execution_count": null,
   "metadata": {},
   "outputs": [],
   "source": [
    "# y = test_data.accusation\n",
    "# cm = pd.DataFrame({'truth': label_encoder.inverse_transform(y.values.astype(int)), \n",
    "#                    'prediction': label_encoder.inverse_transform(yyhat.astype(int))})\n",
    "# pd.pivot_table(cm, index='truth', columns='prediction', aggfunc='size')"
   ]
  },
  {
   "cell_type": "code",
   "execution_count": null,
   "metadata": {},
   "outputs": [],
   "source": []
  }
 ],
 "metadata": {
  "kernelspec": {
   "display_name": "Python 3",
   "language": "python",
   "name": "python3"
  },
  "language_info": {
   "codemirror_mode": {
    "name": "ipython",
    "version": 3
   },
   "file_extension": ".py",
   "mimetype": "text/x-python",
   "name": "python",
   "nbconvert_exporter": "python",
   "pygments_lexer": "ipython3",
   "version": "3.6.5"
  }
 },
 "nbformat": 4,
 "nbformat_minor": 2
}
