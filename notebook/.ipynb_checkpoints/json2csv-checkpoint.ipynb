{
 "cells": [
  {
   "cell_type": "code",
   "execution_count": 1,
   "metadata": {},
   "outputs": [],
   "source": [
    "import pandas as pd"
   ]
  },
  {
   "cell_type": "code",
   "execution_count": 2,
   "metadata": {},
   "outputs": [],
   "source": [
    "path = \"/home/aida-zw/Desktop/ws/Data/full/\"\n",
    "fname = \"data_train.json\""
   ]
  },
  {
   "cell_type": "markdown",
   "metadata": {},
   "source": [
    "## convert json to csv"
   ]
  },
  {
   "cell_type": "code",
   "execution_count": 3,
   "metadata": {},
   "outputs": [],
   "source": [
    "df = pd.read_json(path + fname, lines=True)\n",
    "df01 = pd.DataFrame(list(df['meta']))\n",
    "df02 = pd.DataFrame(list(df01['term_of_imprisonment']))\n",
    "df_new = pd.concat([df.drop('meta', axis=1), df01.drop(\"term_of_imprisonment\", axis=1), df02], axis=1)"
   ]
  },
  {
   "cell_type": "markdown",
   "metadata": {},
   "source": [
    "## clean strings"
   ]
  },
  {
   "cell_type": "code",
   "execution_count": 4,
   "metadata": {},
   "outputs": [],
   "source": [
    "df_new[\"accusation\"] = df_new[\"accusation\"].map(str).str[1:-1]\n",
    "df_new[\"accusation\"] = df_new[\"accusation\"].str.replace(\"'\",\"\")\n",
    "df_new[\"relevant_articles\"] = df_new[\"relevant_articles\"].map(str).str[1:-1]\n",
    "df_new[\"relevant_articles\"] = df_new[\"relevant_articles\"].str.replace(\"'\",\"\")\n",
    "df_new[\"fact\"] = df_new[\"fact\"].map(str).str.strip()\n",
    "df_new[\"fact\"] = df_new[\"fact\"].str.replace(\"\\r\\n\", \"\")"
   ]
  },
  {
   "cell_type": "markdown",
   "metadata": {},
   "source": [
    "## imprisonment adjustment"
   ]
  },
  {
   "cell_type": "code",
   "execution_count": 5,
   "metadata": {},
   "outputs": [],
   "source": [
    "df_new.loc[df_new[\"life_imprisonment\"] == True,'imprisonment'] = -1\n",
    "df_new.loc[df_new[\"death_penalty\"] == True,'imprisonment'] = -2"
   ]
  },
  {
   "cell_type": "markdown",
   "metadata": {},
   "source": [
    "## save csv to local"
   ]
  },
  {
   "cell_type": "code",
   "execution_count": 6,
   "metadata": {},
   "outputs": [],
   "source": [
    "df_new.to_csv(path+ fname[:-4] + 'csv', index=False, encoding='utf-8')"
   ]
  },
  {
   "cell_type": "markdown",
   "metadata": {},
   "source": [
    "## new csv"
   ]
  },
  {
   "cell_type": "code",
   "execution_count": 7,
   "metadata": {},
   "outputs": [
    {
     "data": {
      "text/html": [
       "<div>\n",
       "<style scoped>\n",
       "    .dataframe tbody tr th:only-of-type {\n",
       "        vertical-align: middle;\n",
       "    }\n",
       "\n",
       "    .dataframe tbody tr th {\n",
       "        vertical-align: top;\n",
       "    }\n",
       "\n",
       "    .dataframe thead th {\n",
       "        text-align: right;\n",
       "    }\n",
       "</style>\n",
       "<table border=\"1\" class=\"dataframe\">\n",
       "  <thead>\n",
       "    <tr style=\"text-align: right;\">\n",
       "      <th></th>\n",
       "      <th>fact</th>\n",
       "      <th>accusation</th>\n",
       "      <th>criminals</th>\n",
       "      <th>punish_of_money</th>\n",
       "      <th>relevant_articles</th>\n",
       "      <th>death_penalty</th>\n",
       "      <th>imprisonment</th>\n",
       "      <th>life_imprisonment</th>\n",
       "    </tr>\n",
       "  </thead>\n",
       "  <tbody>\n",
       "    <tr>\n",
       "      <th>0</th>\n",
       "      <td>公诉机关指控：2016年3月28日20时许，被告人颜某在本市洪山区马湖新村足球场马路边捡拾到...</td>\n",
       "      <td>盗窃</td>\n",
       "      <td>[颜某]</td>\n",
       "      <td>1000</td>\n",
       "      <td>264</td>\n",
       "      <td>False</td>\n",
       "      <td>4</td>\n",
       "      <td>False</td>\n",
       "    </tr>\n",
       "    <tr>\n",
       "      <th>1</th>\n",
       "      <td>天津市静海县人民检察院指控，2014年5月13日上午8时许，被告人李xx在天津市静海县大邱庄...</td>\n",
       "      <td>盗窃</td>\n",
       "      <td>[李xx]</td>\n",
       "      <td>0</td>\n",
       "      <td>264</td>\n",
       "      <td>False</td>\n",
       "      <td>0</td>\n",
       "      <td>False</td>\n",
       "    </tr>\n",
       "    <tr>\n",
       "      <th>2</th>\n",
       "      <td>永顺县人民检察院指控，2014年1月11日，被告人李某某与彭某某（另案处理）在永顺县塔卧镇“...</td>\n",
       "      <td>强奸</td>\n",
       "      <td>[李某某]</td>\n",
       "      <td>0</td>\n",
       "      <td>236</td>\n",
       "      <td>False</td>\n",
       "      <td>144</td>\n",
       "      <td>False</td>\n",
       "    </tr>\n",
       "    <tr>\n",
       "      <th>3</th>\n",
       "      <td>公诉机关起诉书指控：2016年11月17日凌晨1时许，被告人周某在本县武康街道营盘小区131...</td>\n",
       "      <td>盗窃</td>\n",
       "      <td>[周某]</td>\n",
       "      <td>5000</td>\n",
       "      <td>264</td>\n",
       "      <td>False</td>\n",
       "      <td>6</td>\n",
       "      <td>False</td>\n",
       "    </tr>\n",
       "    <tr>\n",
       "      <th>4</th>\n",
       "      <td>大名县人民检察院起诉书指控，2014年3月25日9时许，被告人张某在自家庄某处因故与本村席某...</td>\n",
       "      <td>故意伤害</td>\n",
       "      <td>[张某]</td>\n",
       "      <td>0</td>\n",
       "      <td>234</td>\n",
       "      <td>False</td>\n",
       "      <td>21</td>\n",
       "      <td>False</td>\n",
       "    </tr>\n",
       "  </tbody>\n",
       "</table>\n",
       "</div>"
      ],
      "text/plain": [
       "                                                fact accusation criminals  \\\n",
       "0  公诉机关指控：2016年3月28日20时许，被告人颜某在本市洪山区马湖新村足球场马路边捡拾到...         盗窃      [颜某]   \n",
       "1  天津市静海县人民检察院指控，2014年5月13日上午8时许，被告人李xx在天津市静海县大邱庄...         盗窃     [李xx]   \n",
       "2  永顺县人民检察院指控，2014年1月11日，被告人李某某与彭某某（另案处理）在永顺县塔卧镇“...         强奸     [李某某]   \n",
       "3  公诉机关起诉书指控：2016年11月17日凌晨1时许，被告人周某在本县武康街道营盘小区131...         盗窃      [周某]   \n",
       "4  大名县人民检察院起诉书指控，2014年3月25日9时许，被告人张某在自家庄某处因故与本村席某...       故意伤害      [张某]   \n",
       "\n",
       "   punish_of_money relevant_articles  death_penalty  imprisonment  \\\n",
       "0             1000               264          False             4   \n",
       "1                0               264          False             0   \n",
       "2                0               236          False           144   \n",
       "3             5000               264          False             6   \n",
       "4                0               234          False            21   \n",
       "\n",
       "   life_imprisonment  \n",
       "0              False  \n",
       "1              False  \n",
       "2              False  \n",
       "3              False  \n",
       "4              False  "
      ]
     },
     "execution_count": 7,
     "metadata": {},
     "output_type": "execute_result"
    }
   ],
   "source": [
    "df_new.head()"
   ]
  },
  {
   "cell_type": "markdown",
   "metadata": {},
   "source": [
    "## verification"
   ]
  },
  {
   "cell_type": "code",
   "execution_count": 8,
   "metadata": {},
   "outputs": [
    {
     "data": {
      "text/html": [
       "<div>\n",
       "<style scoped>\n",
       "    .dataframe tbody tr th:only-of-type {\n",
       "        vertical-align: middle;\n",
       "    }\n",
       "\n",
       "    .dataframe tbody tr th {\n",
       "        vertical-align: top;\n",
       "    }\n",
       "\n",
       "    .dataframe thead th {\n",
       "        text-align: right;\n",
       "    }\n",
       "</style>\n",
       "<table border=\"1\" class=\"dataframe\">\n",
       "  <thead>\n",
       "    <tr style=\"text-align: right;\">\n",
       "      <th></th>\n",
       "      <th>fact</th>\n",
       "      <th>accusation</th>\n",
       "      <th>criminals</th>\n",
       "      <th>punish_of_money</th>\n",
       "      <th>relevant_articles</th>\n",
       "      <th>death_penalty</th>\n",
       "      <th>imprisonment</th>\n",
       "      <th>life_imprisonment</th>\n",
       "    </tr>\n",
       "  </thead>\n",
       "  <tbody>\n",
       "    <tr>\n",
       "      <th>0</th>\n",
       "      <td>公诉机关指控：2016年3月28日20时许，被告人颜某在本市洪山区马湖新村足球场马路边捡拾到...</td>\n",
       "      <td>盗窃</td>\n",
       "      <td>['颜某']</td>\n",
       "      <td>1000</td>\n",
       "      <td>264</td>\n",
       "      <td>False</td>\n",
       "      <td>4</td>\n",
       "      <td>False</td>\n",
       "    </tr>\n",
       "    <tr>\n",
       "      <th>1</th>\n",
       "      <td>天津市静海县人民检察院指控，2014年5月13日上午8时许，被告人李xx在天津市静海县大邱庄...</td>\n",
       "      <td>盗窃</td>\n",
       "      <td>['李xx']</td>\n",
       "      <td>0</td>\n",
       "      <td>264</td>\n",
       "      <td>False</td>\n",
       "      <td>0</td>\n",
       "      <td>False</td>\n",
       "    </tr>\n",
       "    <tr>\n",
       "      <th>2</th>\n",
       "      <td>永顺县人民检察院指控，2014年1月11日，被告人李某某与彭某某（另案处理）在永顺县塔卧镇“...</td>\n",
       "      <td>强奸</td>\n",
       "      <td>['李某某']</td>\n",
       "      <td>0</td>\n",
       "      <td>236</td>\n",
       "      <td>False</td>\n",
       "      <td>144</td>\n",
       "      <td>False</td>\n",
       "    </tr>\n",
       "    <tr>\n",
       "      <th>3</th>\n",
       "      <td>公诉机关起诉书指控：2016年11月17日凌晨1时许，被告人周某在本县武康街道营盘小区131...</td>\n",
       "      <td>盗窃</td>\n",
       "      <td>['周某']</td>\n",
       "      <td>5000</td>\n",
       "      <td>264</td>\n",
       "      <td>False</td>\n",
       "      <td>6</td>\n",
       "      <td>False</td>\n",
       "    </tr>\n",
       "    <tr>\n",
       "      <th>4</th>\n",
       "      <td>大名县人民检察院起诉书指控，2014年3月25日9时许，被告人张某在自家庄某处因故与本村席某...</td>\n",
       "      <td>故意伤害</td>\n",
       "      <td>['张某']</td>\n",
       "      <td>0</td>\n",
       "      <td>234</td>\n",
       "      <td>False</td>\n",
       "      <td>21</td>\n",
       "      <td>False</td>\n",
       "    </tr>\n",
       "  </tbody>\n",
       "</table>\n",
       "</div>"
      ],
      "text/plain": [
       "                                                fact accusation criminals  \\\n",
       "0  公诉机关指控：2016年3月28日20时许，被告人颜某在本市洪山区马湖新村足球场马路边捡拾到...         盗窃    ['颜某']   \n",
       "1  天津市静海县人民检察院指控，2014年5月13日上午8时许，被告人李xx在天津市静海县大邱庄...         盗窃   ['李xx']   \n",
       "2  永顺县人民检察院指控，2014年1月11日，被告人李某某与彭某某（另案处理）在永顺县塔卧镇“...         强奸   ['李某某']   \n",
       "3  公诉机关起诉书指控：2016年11月17日凌晨1时许，被告人周某在本县武康街道营盘小区131...         盗窃    ['周某']   \n",
       "4  大名县人民检察院起诉书指控，2014年3月25日9时许，被告人张某在自家庄某处因故与本村席某...       故意伤害    ['张某']   \n",
       "\n",
       "   punish_of_money relevant_articles  death_penalty  imprisonment  \\\n",
       "0             1000               264          False             4   \n",
       "1                0               264          False             0   \n",
       "2                0               236          False           144   \n",
       "3             5000               264          False             6   \n",
       "4                0               234          False            21   \n",
       "\n",
       "   life_imprisonment  \n",
       "0              False  \n",
       "1              False  \n",
       "2              False  \n",
       "3              False  \n",
       "4              False  "
      ]
     },
     "execution_count": 8,
     "metadata": {},
     "output_type": "execute_result"
    }
   ],
   "source": [
    "df_tmp = pd.read_csv(path+ fname[:-4] + 'csv', encoding='utf-8')\n",
    "df_tmp.head()"
   ]
  },
  {
   "cell_type": "code",
   "execution_count": null,
   "metadata": {},
   "outputs": [],
   "source": []
  }
 ],
 "metadata": {
  "kernelspec": {
   "display_name": "Python 3",
   "language": "python",
   "name": "python3"
  },
  "language_info": {
   "codemirror_mode": {
    "name": "ipython",
    "version": 3
   },
   "file_extension": ".py",
   "mimetype": "text/x-python",
   "name": "python",
   "nbconvert_exporter": "python",
   "pygments_lexer": "ipython3",
   "version": "3.6.5"
  }
 },
 "nbformat": 4,
 "nbformat_minor": 2
}
