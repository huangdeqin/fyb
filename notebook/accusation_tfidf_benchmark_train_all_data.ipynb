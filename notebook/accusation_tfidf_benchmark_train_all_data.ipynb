{
 "cells": [
  {
   "cell_type": "markdown",
   "metadata": {},
   "source": [
    "### Accusation benchmark using TFIDF\n",
    "\n",
    "- [Jieba Tokenizer](https://github.com/fxsjy/jieba)\n",
    "- The data only includes three big classes\n",
    "- Use all data to train a model and submit"
   ]
  },
  {
   "cell_type": "code",
   "execution_count": 49,
   "metadata": {},
   "outputs": [],
   "source": [
    "import jieba\n",
    "import pandas as pd\n",
    "import numpy as np\n",
    "from sklearn.feature_extraction.text import TfidfVectorizer\n",
    "from sklearn.cross_validation import train_test_split\n",
    "from sklearn.metrics import accuracy_score, confusion_matrix\n",
    "from sklearn.linear_model import LogisticRegression"
   ]
  },
  {
   "cell_type": "markdown",
   "metadata": {},
   "source": [
    "### Data Loading "
   ]
  },
  {
   "cell_type": "code",
   "execution_count": 34,
   "metadata": {
    "scrolled": true
   },
   "outputs": [
    {
     "data": {
      "text/plain": [
       "((620606, 8), (265975, 8))"
      ]
     },
     "execution_count": 34,
     "metadata": {},
     "output_type": "execute_result"
    }
   ],
   "source": [
    "data = pd.read_csv(\"../Data/sample/data_tokenized_large_group.csv\")\n",
    "train_df, test_df = train_test_split(data, test_size=0.3)\n",
    "train_df.shape, test_df.shape"
   ]
  },
  {
   "cell_type": "code",
   "execution_count": 36,
   "metadata": {},
   "outputs": [
    {
     "name": "stderr",
     "output_type": "stream",
     "text": [
      "/System/Library/Frameworks/Python.framework/Versions/2.7/Extras/lib/python/scipy/sparse/compressed.py:130: VisibleDeprecationWarning: `rank` is deprecated; use the `ndim` attribute or function instead. To find the rank of a matrix see `numpy.linalg.matrix_rank`.\n",
      "  if np.rank(self.data) != 1 or np.rank(self.indices) != 1 or np.rank(self.indptr) != 1:\n",
      "/System/Library/Frameworks/Python.framework/Versions/2.7/Extras/lib/python/scipy/sparse/coo.py:200: VisibleDeprecationWarning: `rank` is deprecated; use the `ndim` attribute or function instead. To find the rank of a matrix see `numpy.linalg.matrix_rank`.\n",
      "  if np.rank(self.data) != 1 or np.rank(self.row) != 1 or np.rank(self.col) != 1:\n"
     ]
    },
    {
     "name": "stdout",
     "output_type": "stream",
     "text": [
      "CPU times: user 1min 3s, sys: 3.23 s, total: 1min 6s\n",
      "Wall time: 1min 7s\n"
     ]
    }
   ],
   "source": [
    "tfidf_vectorizer = TfidfVectorizer(min_df=2, max_df=0.8)\n",
    "%time train_X = tfidf_vectorizer.fit_transform(train_df.fact.values)"
   ]
  },
  {
   "cell_type": "code",
   "execution_count": 40,
   "metadata": {},
   "outputs": [
    {
     "name": "stdout",
     "output_type": "stream",
     "text": [
      "CPU times: user 45.3 s, sys: 496 ms, total: 45.8 s\n",
      "Wall time: 46.1 s\n"
     ]
    },
    {
     "data": {
      "text/plain": [
       "LogisticRegression(C=1.0, class_weight=None, dual=False, fit_intercept=True,\n",
       "          intercept_scaling=1, max_iter=100, multi_class='ovr', n_jobs=1,\n",
       "          penalty='l2', random_state=None, solver='liblinear', tol=0.0001,\n",
       "          verbose=0, warm_start=False)"
      ]
     },
     "execution_count": 40,
     "metadata": {},
     "output_type": "execute_result"
    }
   ],
   "source": [
    "classifier = LogisticRegression()\n",
    "%time classifier.fit(train_X, train_df.accusation.values)"
   ]
  },
  {
   "cell_type": "code",
   "execution_count": 42,
   "metadata": {},
   "outputs": [
    {
     "name": "stdout",
     "output_type": "stream",
     "text": [
      "Accuracy:  0.9985788137982893\n"
     ]
    },
    {
     "data": {
      "text/plain": [
       "array([[100283,     49,    107],\n",
       "       [    29,  56688,    102],\n",
       "       [    50,     41, 108626]])"
      ]
     },
     "execution_count": 42,
     "metadata": {},
     "output_type": "execute_result"
    }
   ],
   "source": [
    "# test\n",
    "test_X = tfidf_vectorizer.transform(test_df.fact.values)\n",
    "pred = classifier.predict(test_X)\n",
    "\n",
    "print \"Accuracy: \", accuracy_score(test_df.accusation.values, pred)\n",
    "confusion_matrix(test_df.accusation.values, pred)"
   ]
  },
  {
   "cell_type": "markdown",
   "metadata": {},
   "source": [
    "### Important words"
   ]
  },
  {
   "cell_type": "code",
   "execution_count": 58,
   "metadata": {},
   "outputs": [],
   "source": [
    "feature_names = np.array(tfidf_vectorizer.get_feature_names())\n",
    "\n",
    "def find_important_words(coef, top_n=50):\n",
    "    sorted_idx = np.argsort(np.abs(coef))[::-1]\n",
    "    for token in feature_names[sorted_idx[:top_n]]:\n",
    "        print token"
   ]
  },
  {
   "cell_type": "code",
   "execution_count": 59,
   "metadata": {},
   "outputs": [
    {
     "name": "stdout",
     "output_type": "stream",
     "text": [
      "------------------------\n",
      "       Class 0     \n",
      "驾驶\n",
      "含量\n",
      "100ml\n",
      "血液\n",
      "乙醇\n",
      "醉酒\n",
      "行驶\n",
      "mg\n",
      "被害人\n",
      "价值\n",
      "酒后\n",
      "查获\n",
      "盗窃\n",
      "酒精\n",
      "交通事故\n",
      "事故\n",
      "轻伤\n",
      "检验\n",
      "血样\n",
      "小型\n",
      "一年\n",
      "机动车\n",
      "盗走\n",
      "道路\n",
      "人民币\n",
      "饮酒\n",
      "责任\n",
      "民警\n",
      "被盗\n",
      "浓度\n",
      "轿车\n",
      "路段\n",
      "现金\n",
      "价格\n",
      "二个月\n",
      "二级\n",
      "二轮\n",
      "损伤\n",
      "手机\n",
      "窃得\n",
      "陈述\n",
      "普通\n",
      "一个月\n",
      "碰撞\n",
      "无证\n",
      "三个\n",
      "大队\n",
      "检出\n",
      "司法鉴定\n",
      "打伤\n",
      "None\n",
      "------------------------\n",
      "       Class 1     \n",
      "轻伤\n",
      "盗窃\n",
      "价值\n",
      "盗走\n",
      "殴打\n",
      "重伤\n",
      "二级\n",
      "损伤\n",
      "驾驶\n",
      "发生争执\n",
      "现金\n",
      "人民币\n",
      "处罚金\n",
      "打伤\n",
      "血液\n",
      "发生\n",
      "含量\n",
      "100ml\n",
      "伤情\n",
      "事故\n",
      "乙醇\n",
      "交通事故\n",
      "法医鉴定\n",
      "醉酒\n",
      "被盗\n",
      "价格\n",
      "死亡\n",
      "口角\n",
      "窃得\n",
      "头部\n",
      "故意伤害\n",
      "琐事\n",
      "行驶\n",
      "责任\n",
      "mg\n",
      "手机\n",
      "争吵\n",
      "程度\n",
      "砍伤\n",
      "身体\n",
      "窃取\n",
      "纠纷\n",
      "持刀\n",
      "双方\n",
      "进入\n",
      "酒精\n",
      "被害人\n",
      "法医学\n",
      "菜刀\n",
      "赃款\n",
      "None\n",
      "------------------------\n",
      "       Class 2     \n",
      "轻伤\n",
      "价值\n",
      "盗窃\n",
      "盗走\n",
      "驾驶\n",
      "损伤\n",
      "人民币\n",
      "现金\n",
      "被盗\n",
      "发生\n",
      "二级\n",
      "价格\n",
      "窃得\n",
      "100ml\n",
      "含量\n",
      "重伤\n",
      "乙醇\n",
      "行驶\n",
      "血液\n",
      "殴打\n",
      "程度\n",
      "醉酒\n",
      "法医鉴定\n",
      "窃取\n",
      "发生争执\n",
      "mg\n",
      "手机\n",
      "伤情\n",
      "司法鉴定\n",
      "酒后\n",
      "查获\n",
      "骨折\n",
      "进入\n",
      "鉴定\n",
      "打伤\n",
      "赔偿\n",
      "扒窃\n",
      "受伤\n",
      "赃款\n",
      "头部\n",
      "死亡\n",
      "发现\n",
      "检验\n",
      "抓获\n",
      "放在\n",
      "之机\n",
      "酒精\n",
      "一年\n",
      "小型\n",
      "琐事\n",
      "None\n"
     ]
    }
   ],
   "source": [
    "for c, coef in enumerate(classifier.coef_):\n",
    "    print \"------------------------\"\n",
    "    print \"       Class {}     \".format(c)\n",
    "    print find_important_words(coef)"
   ]
  },
  {
   "cell_type": "code",
   "execution_count": null,
   "metadata": {},
   "outputs": [],
   "source": []
  }
 ],
 "metadata": {
  "kernelspec": {
   "display_name": "Python 2",
   "language": "python",
   "name": "python2"
  },
  "language_info": {
   "codemirror_mode": {
    "name": "ipython",
    "version": 2
   },
   "file_extension": ".py",
   "mimetype": "text/x-python",
   "name": "python",
   "nbconvert_exporter": "python",
   "pygments_lexer": "ipython2",
   "version": "2.7.14"
  }
 },
 "nbformat": 4,
 "nbformat_minor": 2
}
