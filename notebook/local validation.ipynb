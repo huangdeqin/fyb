{
 "cells": [
  {
   "cell_type": "code",
   "execution_count": 8,
   "metadata": {},
   "outputs": [],
   "source": [
    "from judger import Judger\n",
    "import json\n",
    "#import data\n",
    "from importlib import reload\n",
    "import os\n",
    "import multiprocessing\n",
    "\n",
    "#from predictor import Predictor\n",
    "\n",
    "import pandas as pd\n",
    "import importlib\n",
    "import tensorflow as tf\n",
    "import tensorflow_hub as hub\n",
    "#importlib.reload(predictor)\n"
   ]
  },
  {
   "cell_type": "markdown",
   "metadata": {},
   "source": [
    "## fun defination"
   ]
  },
  {
   "cell_type": "code",
   "execution_count": 92,
   "metadata": {},
   "outputs": [],
   "source": [
    "\n",
    "# Calculate precision, recall and f1 value\n",
    "# According to https://github.com/dice-group/gerbil/wiki/Precision,-Recall-and-F1-measure\n",
    "def get_value(res):\n",
    "    if res[\"TP\"] == 0:\n",
    "        if res[\"FP\"] == 0 and res[\"FN\"] == 0:\n",
    "            precision = 1.0\n",
    "            recall = 1.0\n",
    "            f1 = 1.0\n",
    "        else:\n",
    "            precision = 0.0\n",
    "            recall = 0.0\n",
    "            f1 = 0.0\n",
    "    else:\n",
    "        precision = 1.0 * res[\"TP\"] / (res[\"TP\"] + res[\"FP\"])\n",
    "        recall = 1.0 * res[\"TP\"] / (res[\"TP\"] + res[\"FN\"])\n",
    "        f1 = 2 * precision * recall / (precision + recall)\n",
    "\n",
    "    return precision, recall, f1\n",
    "\n",
    "# Generate score for the first two subtasks\n",
    "def gen_score(arr):\n",
    "    sumf = 0\n",
    "    y = {\"TP\": 0, \"FP\": 0, \"FN\": 0, \"TN\": 0}\n",
    "    for x in arr:\n",
    "        p, r, f = get_value(x)\n",
    "        sumf += f\n",
    "        for z in x.keys():\n",
    "            y[z] += x[z]\n",
    "\n",
    "    _, __, f_ = get_value(y)\n",
    "\n",
    "    return (f_ + sumf * 1.0 / len(arr)) / 2.0\n",
    "\n",
    "# Generatue all scores\n",
    "def get_score(self, result):\n",
    "    s1 = self.gen_score(result[0])\n",
    "    s2 = self.gen_score(result[1])\n",
    "    s3 = 1.0 * result[2][\"score\"] / result[2][\"cnt\"]\n",
    "    return [s1, s2, s3]\n",
    "\n",
    "def get_accusation_num(df_accu, accusation):\n",
    "    keys = df_accu.accusation.tolist()\n",
    "    keys = [x.strip() for x in keys]\n",
    "    values = df_accu.accusation_num.tolist()\n",
    "    dict_accu = dict(zip(keys, values))\n",
    "\n",
    "    accusation_num = list()\n",
    "    for accu in accusation:\n",
    "        accusation_num.append([dict_accu.get(x.replace(\"'\", \"\").strip()) for x in accu.split(',')])\n",
    "    return accusation_num"
   ]
  },
  {
   "cell_type": "markdown",
   "metadata": {},
   "source": [
    "## prepare validation data"
   ]
  },
  {
   "cell_type": "code",
   "execution_count": 12,
   "metadata": {},
   "outputs": [
    {
     "name": "stdout",
     "output_type": "stream",
     "text": [
      "/home/aida-zw/Desktop/ws/notebook\r\n"
     ]
    }
   ],
   "source": [
    "!pwd"
   ]
  },
  {
   "cell_type": "code",
   "execution_count": 37,
   "metadata": {},
   "outputs": [],
   "source": [
    "accusation_path = \"../Data/sample/accu.txt\"\n",
    "law_path=\"../Data/sample/law.txt\"\n",
    "result_path = '../output/result.csv'\n",
    "\n",
    "accu_dic = {}\n",
    "\n",
    "f = open(accusation_path, \"r\")\n",
    "task1_cnt = 0\n",
    "for line in f:\n",
    "    task1_cnt += 1\n",
    "    accu_dic[line[:-1]] = task1_cnt\n",
    "\n",
    "law_dic = {}\n",
    "f = open(law_path, \"r\")\n",
    "task2_cnt = 0\n",
    "for line in f:\n",
    "    task2_cnt += 1\n",
    "    law_dic[int(line[:-1])] = task2_cnt\n",
    "task1_cnt, task2_cnt\n",
    "\n",
    "cnt = 0\n",
    "result = [[], [], {}]\n",
    "for a in range(0, task1_cnt):\n",
    "    result[0].append({\"TP\": 0, \"FP\": 0, \"TN\": 0, \"FN\": 0})\n",
    "for a in range(0, task2_cnt):\n",
    "    result[1].append({\"TP\": 0, \"FP\": 0, \"TN\": 0, \"FN\": 0})\n",
    "result[2] = {\"cnt\": 0, \"score\": 0}\n",
    "\n",
    "df_result = pd.read_csv(result_path)\n",
    "\n",
    "df_accu = pd.read_csv('../Data/sample/accu.csv')\n",
    "df_result['pred_num'] = get_accusation_num(df_accu, df_result['prediction'])\n",
    "df_result['gt_num'] = get_accusation_num(df_accu, df_result['truth'])"
   ]
  },
  {
   "cell_type": "code",
   "execution_count": 83,
   "metadata": {},
   "outputs": [],
   "source": [
    "for index, row in df_result.iterrows():\n",
    "    prediction = row['pred_num']\n",
    "    ground_truth = row['gt_num']\n",
    "    \n",
    "    s1 = set(prediction)\n",
    "    s2 = set(ground_truth)\n",
    "\n",
    "    for a in range(0, task1_cnt):\n",
    "        in1 = (a + 1) in s1\n",
    "        in2 = (a + 1) in s2\n",
    "        if in1:\n",
    "            if in2:\n",
    "                result[0][a][\"TP\"] += 1\n",
    "            else:\n",
    "                result[0][a][\"FP\"] += 1\n",
    "        else:\n",
    "            if in2:\n",
    "                result[0][a][\"FN\"] += 1\n",
    "            else:\n",
    "                result[0][a][\"TN\"] += 1"
   ]
  },
  {
   "cell_type": "code",
   "execution_count": null,
   "metadata": {},
   "outputs": [],
   "source": []
  }
 ],
 "metadata": {
  "kernelspec": {
   "display_name": "Python 3",
   "language": "python",
   "name": "python3"
  },
  "language_info": {
   "codemirror_mode": {
    "name": "ipython",
    "version": 3
   },
   "file_extension": ".py",
   "mimetype": "text/x-python",
   "name": "python",
   "nbconvert_exporter": "python",
   "pygments_lexer": "ipython3",
   "version": "3.6.5"
  }
 },
 "nbformat": 4,
 "nbformat_minor": 2
}
