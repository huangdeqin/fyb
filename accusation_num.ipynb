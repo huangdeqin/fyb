{
 "cells": [
  {
   "cell_type": "code",
   "execution_count": 1,
   "metadata": {},
   "outputs": [],
   "source": [
    "import pandas as pd"
   ]
  },
  {
   "cell_type": "code",
   "execution_count": 2,
   "metadata": {},
   "outputs": [],
   "source": [
    "path = \"/home/aida-zw/Desktop/ws/Data/full/\"\n",
    "fname = \"data_train.csv\""
   ]
  },
  {
   "cell_type": "markdown",
   "metadata": {},
   "source": [
    "## add accusation_num"
   ]
  },
  {
   "cell_type": "code",
   "execution_count": 5,
   "metadata": {},
   "outputs": [],
   "source": [
    "def get_accusation_num(df_accu, accusation):\n",
    "    keys = df_accu.accusation.tolist()\n",
    "    keys = [x.strip() for x in keys]\n",
    "    values = df_accu.accusation_num.tolist()\n",
    "    dict_accu = dict(zip(keys, values))\n",
    "\n",
    "    accusation_num = list()\n",
    "    for accu in accusation:\n",
    "        accusation_num.append([dict_accu.get(x.replace(\"'\", \"\").strip()) for x in accu.split(',')])\n",
    "    return accusation_num\n",
    "#df['accusation_num'] = get_accusation_num(df_accu, df)"
   ]
  }
 ],
 "metadata": {
  "kernelspec": {
   "display_name": "Python 3",
   "language": "python",
   "name": "python3"
  },
  "language_info": {
   "codemirror_mode": {
    "name": "ipython",
    "version": 3
   },
   "file_extension": ".py",
   "mimetype": "text/x-python",
   "name": "python",
   "nbconvert_exporter": "python",
   "pygments_lexer": "ipython3",
   "version": "3.6.5"
  }
 },
 "nbformat": 4,
 "nbformat_minor": 2
}
